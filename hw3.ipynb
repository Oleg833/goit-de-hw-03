{
 "cells": [
  {
   "cell_type": "code",
   "execution_count": 1,
   "metadata": {},
   "outputs": [
    {
     "name": "stdout",
     "output_type": "stream",
     "text": [
      "+-----------+------------+\n",
      "|   category|total_amount|\n",
      "+-----------+------------+\n",
      "|       Home|      1523.5|\n",
      "|     Sports|      1802.5|\n",
      "|Electronics|      1174.8|\n",
      "|   Clothing|       790.3|\n",
      "|     Beauty|       459.9|\n",
      "+-----------+------------+\n",
      "\n",
      "+-----------+------------------+\n",
      "|   category|total_amount_18_25|\n",
      "+-----------+------------------+\n",
      "|       Home|             361.1|\n",
      "|     Sports|             310.5|\n",
      "|Electronics|             249.6|\n",
      "|   Clothing|             245.0|\n",
      "|     Beauty|              41.4|\n",
      "+-----------+------------------+\n",
      "\n",
      "+-----------+------------------+----------+\n",
      "|   category|total_amount_18_25|percentage|\n",
      "+-----------+------------------+----------+\n",
      "|       Home|             361.1|      29.9|\n",
      "|     Sports|             310.5|     25.71|\n",
      "|Electronics|             249.6|     20.67|\n",
      "|   Clothing|             245.0|     20.29|\n",
      "|     Beauty|              41.4|      3.43|\n",
      "+-----------+------------------+----------+\n",
      "\n",
      "+-----------+------------------+----------+\n",
      "|   category|total_amount_18_25|percentage|\n",
      "+-----------+------------------+----------+\n",
      "|       Home|             361.1|      29.9|\n",
      "|     Sports|             310.5|     25.71|\n",
      "|Electronics|             249.6|     20.67|\n",
      "+-----------+------------------+----------+\n",
      "\n"
     ]
    }
   ],
   "source": [
    "from pyspark.sql import SparkSession\n",
    "from pyspark.sql.functions import sum as spark_sum, col, round\n",
    "from pyspark.sql.types import IntegerType\n",
    "\n",
    "# Initialize Spark session\n",
    "spark = SparkSession.builder.appName(\"Data Processing\").getOrCreate()\n",
    "\n",
    "# Load the CSV files into separate DataFrames\n",
    "purchases_df = spark.read.csv('./purchases.csv', header=True, inferSchema=True)\n",
    "users_df = spark.read.csv('./users.csv', header=True, inferSchema=True)\n",
    "products_df = spark.read.csv('./products.csv', header=True, inferSchema=True)\n",
    "\n",
    "# Step 2: Clean the data by removing rows with any null values\n",
    "purchases_df = purchases_df.dropna()\n",
    "users_df = users_df.dropna()\n",
    "products_df = products_df.dropna()\n",
    "\n",
    "# Step 3: Calculate the total purchase amount per product category with rounded amount\n",
    "merged_df = purchases_df.join(products_df, 'product_id')\n",
    "# Calculate the total purchase amount (quantity * price) and round to 2 decimal places\n",
    "merged_df = merged_df.withColumn('amount', round(col('quantity') * col('price'), 2))\n",
    "# Group by category and sum the calculated amount, then round to 2 decimal places\n",
    "total_purchase_per_category = merged_df.groupBy('category').agg(round(spark_sum('amount'), 2).alias('total_amount'))\n",
    "\n",
    "# Step 4: Calculate the total purchase amount per product category for age group 18-25 with rounded amount\n",
    "filtered_users_df = users_df.filter((col('age') >= 18) & (col('age') <= 25))\n",
    "merged_age_df = purchases_df.join(filtered_users_df, 'user_id').join(products_df, 'product_id')\n",
    "# Calculate the total purchase amount (quantity * price) and round to 2 decimal places for age group 18-25\n",
    "merged_age_df = merged_age_df.withColumn('amount', round(col('quantity') * col('price'), 2))\n",
    "total_purchase_18_25 = merged_age_df.groupBy('category').agg(round(spark_sum('amount'), 2).alias('total_amount_18_25'))\n",
    "\n",
    "# Step 5: Calculate the percentage share of purchases for each category within age group 18-25\n",
    "from pyspark.sql.window import Window\n",
    "windowSpec = Window.partitionBy()\n",
    "percentage_share = total_purchase_18_25.withColumn(\n",
    "    'percentage', round((col('total_amount_18_25') / spark_sum('total_amount_18_25').over(windowSpec)) * 100, 2)\n",
    ")\n",
    "\n",
    "# Step 6: Select the top 3 categories by percentage of purchases for age group 18-25\n",
    "top_3_categories = percentage_share.orderBy(col('percentage').desc()).limit(3)\n",
    "\n",
    "# Show results\n",
    "total_purchase_per_category.show()\n",
    "total_purchase_18_25.show()\n",
    "percentage_share.show()\n",
    "top_3_categories.show()\n"
   ]
  },
  {
   "cell_type": "code",
   "execution_count": null,
   "metadata": {},
   "outputs": [],
   "source": [
    "spark.stop()"
   ]
  }
 ],
 "metadata": {
  "kernelspec": {
   "display_name": "Python 3",
   "language": "python",
   "name": "python3"
  },
  "language_info": {
   "codemirror_mode": {
    "name": "ipython",
    "version": 3
   },
   "file_extension": ".py",
   "mimetype": "text/x-python",
   "name": "python",
   "nbconvert_exporter": "python",
   "pygments_lexer": "ipython3",
   "version": "3.12.7"
  }
 },
 "nbformat": 4,
 "nbformat_minor": 2
}
